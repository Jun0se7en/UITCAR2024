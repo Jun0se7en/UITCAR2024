{
 "cells": [
  {
   "cell_type": "code",
   "execution_count": 1,
   "id": "1a3359c7-b262-47a9-92cf-ee572986e93d",
   "metadata": {
    "tags": []
   },
   "outputs": [
    {
     "name": "stderr",
     "output_type": "stream",
     "text": [
      "Could not search for non-variable resources. Concrete function internal representation may have changed.\n"
     ]
    }
   ],
   "source": [
    "import onnx\n",
    "import os\n",
    "import tf2onnx\n",
    "\n",
    "from tensorflow.keras.models import load_model\n",
    "\n",
    "model = load_model('./CNN_models/CNN-model-020.h5')\n",
    "onnx_model, _ = tf2onnx.convert.from_keras(model)\n",
    "onnx.save(onnx_model, './CNN_models/CNN-model-020.onnx')"
   ]
  },
  {
   "cell_type": "code",
   "execution_count": 6,
   "id": "535d7162-763a-4681-a884-a188df0097df",
   "metadata": {},
   "outputs": [],
   "source": [
    "import onnx\n",
    "import torch\n",
    "from onnx2torch import convert\n",
    "\n",
    "# Path to ONNX model\n",
    "onnx_model_path = './models/SEG/model-032.onnx'\n",
    "onnx_model = onnx.load(onnx_model_path)\n",
    "torch_model_2 = convert(onnx_model)\n",
    "torch.save(torch_model_2, './models/SEG/model-032.pt')"
   ]
  },
  {
   "cell_type": "code",
   "execution_count": null,
   "id": "d677dd79-7fe8-4878-96c7-e0054aa3cac1",
   "metadata": {},
   "outputs": [],
   "source": []
  }
 ],
 "metadata": {
  "kernelspec": {
   "display_name": "Python 3 (ipykernel)",
   "language": "python",
   "name": "python3"
  },
  "language_info": {
   "codemirror_mode": {
    "name": "ipython",
    "version": 3
   },
   "file_extension": ".py",
   "mimetype": "text/x-python",
   "name": "python",
   "nbconvert_exporter": "python",
   "pygments_lexer": "ipython3",
   "version": "3.10.7"
  }
 },
 "nbformat": 4,
 "nbformat_minor": 5
}
