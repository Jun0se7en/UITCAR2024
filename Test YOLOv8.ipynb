{
 "cells": [
  {
   "cell_type": "code",
   "execution_count": 1,
   "id": "4a5e3c98-42ef-484f-8aa7-94196140abc2",
   "metadata": {
    "tags": []
   },
   "outputs": [
    {
     "name": "stderr",
     "output_type": "stream",
     "text": [
      "C:\\Users\\ADMIN\\AppData\\Local\\Programs\\Python\\Python310\\lib\\site-packages\\tqdm\\auto.py:21: TqdmWarning: IProgress not found. Please update jupyter and ipywidgets. See https://ipywidgets.readthedocs.io/en/stable/user_install.html\n",
      "  from .autonotebook import tqdm as notebook_tqdm\n"
     ]
    }
   ],
   "source": [
    "import torch\n",
    "from matplotlib import pyplot as plt\n",
    "import numpy as np\n",
    "import os\n",
    "import cv2\n",
    "import itertools"
   ]
  },
  {
   "cell_type": "code",
   "execution_count": null,
   "id": "6ced00c9-ba7e-484a-8ed1-c04063181175",
   "metadata": {
    "tags": []
   },
   "outputs": [],
   "source": [
    "model = torch.hub.load('ultralytics/yolov5', 'custom', path='./27-10-0227pm.pt', force_reload=True)"
   ]
  },
  {
   "cell_type": "code",
   "execution_count": null,
   "id": "45502010-2b95-40ac-9516-5aeacc76aff4",
   "metadata": {
    "tags": []
   },
   "outputs": [],
   "source": [
    "imgs = os.listdir('./data/images')\n",
    "\n",
    "count = 0\n",
    "for i in imgs:\n",
    "    img = cv2.imread(f'./data/images/{i}')\n",
    "    results = model(img)\n",
    "    res = np.squeeze(results.render())\n",
    "    try:\n",
    "        os.chdir('./results')\n",
    "    except:\n",
    "        os.mkdir('./results')\n",
    "        os.chdir('./results')\n",
    "    cv2.imwrite(f'{count}.jpg', res)\n",
    "    count +=1\n",
    "    os.chdir('..')"
   ]
  },
  {
   "cell_type": "code",
   "execution_count": 2,
   "id": "61b9aaf7-0407-4da9-a14c-02d56f677146",
   "metadata": {},
   "outputs": [],
   "source": [
    "from ultralytics import YOLO\n",
    "\n",
    "model = YOLO('./27-10-1112am(v8).pt')"
   ]
  },
  {
   "cell_type": "code",
   "execution_count": null,
   "id": "383d37aa-8a33-4911-8727-3bb3afac5070",
   "metadata": {
    "tags": []
   },
   "outputs": [],
   "source": [
    "from ultralytics.utils.plotting import Annotator\n",
    "\n",
    "imgs = os.listdir('./data/images')\n",
    "\n",
    "count = 0\n",
    "for i in imgs:\n",
    "    img = cv2.imread(f'./data/images/{i}')\n",
    "    results = model.predict(img,conf=0.5, verbose=False)\n",
    "    for r in results:\n",
    "        annotator = Annotator(img)\n",
    "        boxes = r.boxes\n",
    "        for box in boxes:\n",
    "            \n",
    "            b = box.xyxy[0]  # get box coordinates in (top, left, bottom, right) format\n",
    "            c = box.cls\n",
    "            annotator.box_label(b, model.names[int(c)])\n",
    "    res = annotator.result()\n",
    "    try:\n",
    "        os.chdir('./results')\n",
    "    except:\n",
    "        os.mkdir('./results')\n",
    "        os.chdir('./results')\n",
    "    cv2.imwrite(f'{count}.jpg', res)\n",
    "    count +=1\n",
    "    os.chdir('..')"
   ]
  },
  {
   "cell_type": "code",
   "execution_count": 15,
   "id": "ed7a62ff-3d52-4132-a08b-13b148c8e0a3",
   "metadata": {
    "tags": []
   },
   "outputs": [],
   "source": [
    "# Kích thước ảnh sau khi qua mô hình YOLO\n",
    "model_input_width = 800\n",
    "model_input_height = 800\n",
    "\n",
    "# Kích thước ảnh gốc\n",
    "original_image_width = 320\n",
    "original_image_height = 320\n",
    "\n",
    "width_ratio = model_output_width / input_width\n",
    "height_ratio = model_output_height / input_height\n",
    "\n",
    "imgs = os.listdir('./data/images')\n",
    "\n",
    "for i in imgs:\n",
    "    img = cv2.imread(f'./data/images/{i}')\n",
    "    results = model.predict(img,conf=0.5, verbose=False)\n",
    "    count = 0\n",
    "    for r in results:\n",
    "        boxes = r.boxes\n",
    "        for box in boxes:\n",
    "            b = box.xyxy[0] # get box coordinates in (top, left, bottom, right) format\n",
    "            b = b.cpu().numpy().astype(int)\n",
    "            top, left, bottom, right = b\n",
    "            new_top = int(top * height_ratio)\n",
    "            new_left = int(left * width_ratio)\n",
    "            new_bottom = int(bottom * height_ratio)\n",
    "            new_right = int(right * width_ratio)\n",
    "            # x = left\n",
    "            # y = top\n",
    "            # width = right - left\n",
    "            # height = bottom - top\n",
    "            cropped_box = img[left:right, top:bottom]\n",
    "            # color = (0, 255, 0)  # Màu bounding box (ở đây là màu xanh lá cây)\n",
    "            # thickness = 2  # Độ dày của đường vẽ\n",
    "            # cv2.rectangle(img, (x, y), (x + width, y + height), color, thickness)\n",
    "            try:\n",
    "                os.chdir('./cropped')\n",
    "            except:\n",
    "                os.mkdir('./cropped')\n",
    "                os.chdir('./cropped')\n",
    "            cv2.imwrite(f'{i.split(\".\")[0]} ({count}).jpg', cropped_box)\n",
    "            os.chdir('..')\n",
    "            count +=1"
   ]
  },
  {
   "cell_type": "code",
   "execution_count": 11,
   "id": "ea204da5-15fd-4bd2-8a43-de12d4b7ebad",
   "metadata": {},
   "outputs": [
    {
     "ename": "AttributeError",
     "evalue": "'Annotator' object has no attribute 'get_bounding_box'",
     "output_type": "error",
     "traceback": [
      "\u001b[1;31m---------------------------------------------------------------------------\u001b[0m",
      "\u001b[1;31mAttributeError\u001b[0m                            Traceback (most recent call last)",
      "Cell \u001b[1;32mIn [11], line 23\u001b[0m\n\u001b[0;32m     21\u001b[0m \u001b[38;5;28;01mfor\u001b[39;00m r \u001b[38;5;129;01min\u001b[39;00m results:\n\u001b[0;32m     22\u001b[0m     annotator \u001b[38;5;241m=\u001b[39m Annotator(img)\n\u001b[1;32m---> 23\u001b[0m     bounding_box \u001b[38;5;241m=\u001b[39m \u001b[43mannotator\u001b[49m\u001b[38;5;241;43m.\u001b[39;49m\u001b[43mget_bounding_box\u001b[49m()\n\u001b[0;32m     25\u001b[0m     \u001b[38;5;66;03m# Crop the image using the coordinates.\u001b[39;00m\n\u001b[0;32m     26\u001b[0m     cropped_image \u001b[38;5;241m=\u001b[39m img[bounding_box[\u001b[38;5;241m1\u001b[39m]:bounding_box[\u001b[38;5;241m3\u001b[39m], bounding_box[\u001b[38;5;241m0\u001b[39m]:bounding_box[\u001b[38;5;241m2\u001b[39m], :]\n",
      "\u001b[1;31mAttributeError\u001b[0m: 'Annotator' object has no attribute 'get_bounding_box'"
     ]
    }
   ],
   "source": [
    "from ultralytics.utils.plotting import Annotator\n",
    "\n",
    "# Kích thước ảnh đầu vào của bạn\n",
    "input_width = 320\n",
    "input_height = 320\n",
    "\n",
    "# Kích thước ảnh đầu ra của mô hình\n",
    "model_output_width = 800\n",
    "model_output_height = 800\n",
    "\n",
    "width_ratio = model_output_width / input_width\n",
    "height_ratio = model_output_height / input_height\n",
    "\n",
    "imgs = os.listdir('./data/images')\n",
    "\n",
    "count = 0\n",
    "for i in imgs:\n",
    "    img = cv2.imread(f'./data/images/{i}')\n",
    "    results = model.predict(img,conf=0.5, verbose=False)\n",
    "    count = 0\n",
    "    for r in results:\n",
    "        annotator = Annotator(img)\n",
    "        bounding_box = annotator.get_bounding_box()\n",
    "\n",
    "        # Crop the image using the coordinates.\n",
    "        cropped_image = img[bounding_box[1]:bounding_box[3], bounding_box[0]:bounding_box[2], :]\n",
    "        try:\n",
    "            os.chdir('./cropped')\n",
    "        except:\n",
    "            os.mkdir('./cropped')\n",
    "            os.chdir('./cropped')\n",
    "        cv2.imwrite(f'{i.split(\".\")[0]} ({count}).jpg', cropped_image)\n",
    "        os.chdir('..')\n",
    "        count +=1"
   ]
  },
  {
   "cell_type": "code",
   "execution_count": 14,
   "id": "3c67215b-9046-4b29-804e-033a9a8fa234",
   "metadata": {
    "tags": []
   },
   "outputs": [],
   "source": [
    "os.chdir('..')"
   ]
  },
  {
   "cell_type": "code",
   "execution_count": null,
   "id": "96acc9f0-8fbf-4a79-aecb-14e0c5beb195",
   "metadata": {},
   "outputs": [],
   "source": []
  }
 ],
 "metadata": {
  "kernelspec": {
   "display_name": "Python 3 (ipykernel)",
   "language": "python",
   "name": "python3"
  },
  "language_info": {
   "codemirror_mode": {
    "name": "ipython",
    "version": 3
   },
   "file_extension": ".py",
   "mimetype": "text/x-python",
   "name": "python",
   "nbconvert_exporter": "python",
   "pygments_lexer": "ipython3",
   "version": "3.10.7"
  }
 },
 "nbformat": 4,
 "nbformat_minor": 5
}
